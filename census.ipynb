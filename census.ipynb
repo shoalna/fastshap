{
 "cells": [
  {
   "cell_type": "markdown",
   "id": "engaged-interference",
   "metadata": {},
   "source": [
    "# Load data"
   ]
  },
  {
   "cell_type": "code",
   "execution_count": null,
   "id": "d6a250f8",
   "metadata": {},
   "outputs": [],
   "source": []
  },
  {
   "cell_type": "code",
   "execution_count": 5,
   "id": "hungry-jaguar",
   "metadata": {
    "scrolled": true
   },
   "outputs": [],
   "source": [
    "import shap  # https://github.com/slundberg/shap\n",
    "import shapreg  # https://github.com/iancovert/shapley-regression\n",
    "import numpy as np\n",
    "from sklearn.model_selection import train_test_split\n",
    "from sklearn.preprocessing import StandardScaler"
   ]
  },
  {
   "cell_type": "code",
   "execution_count": 6,
   "id": "structured-album",
   "metadata": {},
   "outputs": [
    {
     "name": "stderr",
     "output_type": "stream",
     "text": [
      "X does not have valid feature names, but StandardScaler was fitted with feature names\n",
      "X does not have valid feature names, but StandardScaler was fitted with feature names\n",
      "X does not have valid feature names, but StandardScaler was fitted with feature names\n"
     ]
    }
   ],
   "source": [
    "# Load and split data\n",
    "X_train, X_test, Y_train, Y_test = train_test_split(\n",
    "    *shap.datasets.adult(), test_size=0.2, random_state=7)\n",
    "X_train, X_val, Y_train, Y_val = train_test_split(\n",
    "    X_train, Y_train, test_size=0.2, random_state=0)\n",
    "\n",
    "# Data scaling\n",
    "num_features = X_train.shape[1]\n",
    "feature_names = X_train.columns.tolist()\n",
    "ss = StandardScaler()\n",
    "ss.fit(X_train)\n",
    "X_train = ss.transform(X_train.values)\n",
    "X_val = ss.transform(X_val.values)\n",
    "X_test = ss.transform(X_test.values)"
   ]
  },
  {
   "cell_type": "markdown",
   "id": "public-citizen",
   "metadata": {},
   "source": [
    "# Train model"
   ]
  },
  {
   "cell_type": "code",
   "execution_count": 9,
   "id": "sound-thickness",
   "metadata": {},
   "outputs": [],
   "source": [
    "import pickle\n",
    "import os.path\n",
    "import lightgbm as lgb"
   ]
  },
  {
   "cell_type": "code",
   "execution_count": 10,
   "id": "laughing-juvenile",
   "metadata": {},
   "outputs": [
    {
     "name": "stdout",
     "output_type": "stream",
     "text": [
      "Loading saved model\n"
     ]
    }
   ],
   "source": [
    "if os.path.isfile('census model.pkl'):\n",
    "    print('Loading saved model')\n",
    "    with open('census model.pkl', 'rb') as f:\n",
    "        model = pickle.load(f)\n",
    "\n",
    "else:\n",
    "    # Setup\n",
    "    params = {\n",
    "        \"max_bin\": 512,\n",
    "        \"learning_rate\": 0.05,\n",
    "        \"boosting_type\": \"gbdt\",\n",
    "        \"objective\": \"binary\",\n",
    "        \"metric\": \"binary_logloss\",\n",
    "        \"num_leaves\": 10,\n",
    "        \"verbose\": -1,\n",
    "        \"min_data\": 100,\n",
    "        \"boost_from_average\": True\n",
    "    }\n",
    "\n",
    "    # More setup\n",
    "    d_train = lgb.Dataset(X_train, label=Y_train)\n",
    "    d_val = lgb.Dataset(X_val, label=Y_val)\n",
    "\n",
    "    # Train model\n",
    "    model = lgb.train(params, d_train, 10000, valid_sets=[d_val],\n",
    "                      early_stopping_rounds=50, verbose_eval=1000)\n",
    "    \n",
    "    # Save model\n",
    "    with open('census model.pkl', 'wb') as f:\n",
    "        pickle.dump(model, f)"
   ]
  },
  {
   "cell_type": "code",
   "execution_count": 11,
   "id": "f4e72a81",
   "metadata": {},
   "outputs": [
    {
     "data": {
      "text/plain": [
       "(0.7971318020312249, 0.7868217054263565, 0.6498079385403329)"
      ]
     },
     "execution_count": 11,
     "metadata": {},
     "output_type": "execute_result"
    }
   ],
   "source": [
    "from sklearn import metrics\n",
    "\n",
    "def get_evaluate(y_test, predict):\n",
    "\n",
    "    fpr, tpr, thr_arr = metrics.roc_curve(y_test, predict)\n",
    "\n",
    "    auc = metrics.auc(fpr, tpr)\n",
    "    precision = metrics.precision_score(y_test, predict)\n",
    "    recall = metrics.recall_score(y_test, predict)      \n",
    "\n",
    "    return auc, precision, recall\n",
    "\n",
    "predict_proba = model.predict(X_test, num_iteration=model.best_iteration)\n",
    "predict = [0 if i < 0.5 else 1 for i in predict_proba]\n",
    "\n",
    "get_evaluate(Y_test, predict)"
   ]
  },
  {
   "cell_type": "markdown",
   "id": "renewable-setup",
   "metadata": {},
   "source": [
    "# Train surrogate"
   ]
  },
  {
   "cell_type": "code",
   "execution_count": 12,
   "id": "buried-creek",
   "metadata": {},
   "outputs": [],
   "source": [
    "import torch\n",
    "import torch.nn as nn\n",
    "from fastshap.utils import MaskLayer1d\n",
    "from fastshap import Surrogate, KLDivLoss"
   ]
  },
  {
   "cell_type": "code",
   "execution_count": 13,
   "id": "33caba7f",
   "metadata": {},
   "outputs": [
    {
     "name": "stdout",
     "output_type": "stream",
     "text": [
      "2.0.1+cpu\n"
     ]
    }
   ],
   "source": [
    "print( torch.__version__ )"
   ]
  },
  {
   "cell_type": "code",
   "execution_count": 14,
   "id": "welcome-banana",
   "metadata": {},
   "outputs": [],
   "source": [
    "# Select device\n",
    "device = torch.device('cpu')"
   ]
  },
  {
   "cell_type": "code",
   "execution_count": 38,
   "id": "6d43299f-004f-49e1-baae-ea615a5f8be6",
   "metadata": {},
   "outputs": [
    {
     "name": "stdout",
     "output_type": "stream",
     "text": [
      "[6.39857584e-02 9.66003098e-02 3.85090529e-04 ... 3.96895340e-01\n",
      " 7.56384233e-02 3.13582974e-04]\n"
     ]
    },
    {
     "data": {
      "text/plain": [
       "array([[9.36014242e-01, 6.39857584e-02],\n",
       "       [9.03399690e-01, 9.66003098e-02],\n",
       "       [9.99614909e-01, 3.85090529e-04],\n",
       "       ...,\n",
       "       [6.03104660e-01, 3.96895340e-01],\n",
       "       [9.24361577e-01, 7.56384233e-02],\n",
       "       [9.99686417e-01, 3.13582974e-04]])"
      ]
     },
     "execution_count": 38,
     "metadata": {},
     "output_type": "execute_result"
    }
   ],
   "source": [
    "ppp = model.predict(X_val)\n",
    "print(ppp)\n",
    "np.stack([1 - ppp, ppp]).T"
   ]
  },
  {
   "cell_type": "code",
   "execution_count": 15,
   "id": "early-courage",
   "metadata": {},
   "outputs": [
    {
     "name": "stdout",
     "output_type": "stream",
     "text": [
      "Loading saved surrogate model\n"
     ]
    }
   ],
   "source": [
    "# Check for model\n",
    "if os.path.isfile('census surrogate.pt'):\n",
    "    print('Loading saved surrogate model')\n",
    "    surr = torch.load('census surrogate.pt').to(device)\n",
    "    surrogate = Surrogate(surr, num_features)\n",
    "\n",
    "else:\n",
    "    # Create surrogate model\n",
    "    surr = nn.Sequential(\n",
    "        MaskLayer1d(value=0, append=True),\n",
    "        nn.Linear(2 * num_features, 128),\n",
    "        nn.ELU(inplace=True),\n",
    "        nn.Linear(128, 128),\n",
    "        nn.ELU(inplace=True),\n",
    "        nn.Linear(128, 2)).to(device)\n",
    "\n",
    "    # Set up surrogate object\n",
    "    surrogate = Surrogate(surr, num_features)\n",
    "\n",
    "    # Set up original model\n",
    "    def original_model(x):\n",
    "        pred = model.predict(x.cpu().numpy())\n",
    "        pred = np.stack([1 - pred, pred]).T\n",
    "        return torch.tensor(pred, dtype=torch.float32, device=x.device)\n",
    "\n",
    "    # Train\n",
    "    surrogate.train_original_model(\n",
    "        X_train,\n",
    "        X_val,\n",
    "        original_model,\n",
    "        batch_size=64,\n",
    "        max_epochs=100,\n",
    "        loss_fn=KLDivLoss(),\n",
    "        validation_samples=10,\n",
    "        validation_batch_size=10000,\n",
    "        verbose=True)\n",
    "\n",
    "    # Save surrogate\n",
    "    surr.cpu()\n",
    "    torch.save(surr, 'census surrogate.pt')\n",
    "    surr.to(device)"
   ]
  },
  {
   "cell_type": "code",
   "execution_count": 16,
   "id": "c3499988",
   "metadata": {},
   "outputs": [
    {
     "data": {
      "text/plain": [
       "Sequential(\n",
       "  (0): MaskLayer1d()\n",
       "  (1): Linear(in_features=24, out_features=128, bias=True)\n",
       "  (2): ELU(alpha=1.0, inplace=True)\n",
       "  (3): Linear(in_features=128, out_features=128, bias=True)\n",
       "  (4): ELU(alpha=1.0, inplace=True)\n",
       "  (5): Linear(in_features=128, out_features=2, bias=True)\n",
       ")"
      ]
     },
     "execution_count": 16,
     "metadata": {},
     "output_type": "execute_result"
    }
   ],
   "source": [
    "surrogate.surrogate.eval()"
   ]
  },
  {
   "cell_type": "markdown",
   "id": "modern-nightlife",
   "metadata": {},
   "source": [
    "# Train FastSHAP"
   ]
  },
  {
   "cell_type": "code",
   "execution_count": 17,
   "id": "active-regression",
   "metadata": {},
   "outputs": [],
   "source": [
    "from fastshap import FastSHAP"
   ]
  },
  {
   "cell_type": "code",
   "execution_count": 18,
   "id": "compressed-amino",
   "metadata": {},
   "outputs": [
    {
     "name": "stdout",
     "output_type": "stream",
     "text": [
      "Loading saved explainer model\n"
     ]
    }
   ],
   "source": [
    "# Check for model\n",
    "if os.path.isfile('census explainer.pt'):\n",
    "    print('Loading saved explainer model')\n",
    "    explainer = torch.load('census explainer.pt').to(device)\n",
    "    fastshap = FastSHAP(explainer, surrogate, normalization='additive',\n",
    "                        link=nn.Softmax(dim=-1))\n",
    "\n",
    "else:\n",
    "    # Create explainer model\n",
    "    explainer = nn.Sequential(\n",
    "        nn.Linear(num_features, 128),\n",
    "        nn.ReLU(inplace=True),\n",
    "        nn.Linear(128, 128),\n",
    "        nn.ReLU(inplace=True),\n",
    "        nn.Linear(128, 2 * num_features)).to(device)\n",
    "\n",
    "    # Set up FastSHAP object\n",
    "    fastshap = FastSHAP(explainer, surrogate, normalization='additive',\n",
    "                        link=nn.Softmax(dim=-1))\n",
    "\n",
    "    # Train\n",
    "    fastshap.train(\n",
    "        X_train,\n",
    "        X_val[:100],\n",
    "        batch_size=32,\n",
    "        num_samples=32,\n",
    "        max_epochs=200,\n",
    "        validation_samples=128,\n",
    "        verbose=True)\n",
    "    \n",
    "    # Save explainer\n",
    "    explainer.cpu()\n",
    "    torch.save(explainer, 'census explainer.pt')\n",
    "    explainer.to(device)"
   ]
  },
  {
   "cell_type": "markdown",
   "id": "referenced-sacramento",
   "metadata": {},
   "source": [
    "# Compare with KernelSHAP"
   ]
  },
  {
   "cell_type": "code",
   "execution_count": 19,
   "id": "worth-flour",
   "metadata": {},
   "outputs": [],
   "source": [
    "import matplotlib.pyplot as plt"
   ]
  },
  {
   "cell_type": "code",
   "execution_count": 20,
   "id": "structured-messenger",
   "metadata": {},
   "outputs": [],
   "source": [
    "# Setup for KernelSHAP\n",
    "def imputer(x, S):\n",
    "    x = torch.tensor(x, dtype=torch.float32, device=device)\n",
    "    S = torch.tensor(S, dtype=torch.float32, device=device)\n",
    "    pred = surrogate(x, S).softmax(dim=-1)\n",
    "    return pred.cpu().data.numpy()"
   ]
  },
  {
   "cell_type": "code",
   "execution_count": 21,
   "id": "intellectual-zoning",
   "metadata": {},
   "outputs": [
    {
     "name": "stderr",
     "output_type": "stream",
     "text": [
      "100%|████████████████████████████████████████████████████████████████████████████████████| 1/1 [00:00<00:00,  2.35it/s]\n"
     ]
    }
   ],
   "source": [
    "# Select example\n",
    "ind = np.random.choice(len(X_test))\n",
    "x = X_test[ind:ind+1]\n",
    "y = int(Y_test[ind])\n",
    "\n",
    "# Run FastSHAP\n",
    "fastshap_values = fastshap.shap_values(x)[0]\n",
    "\n",
    "# Run KernelSHAP to convergence\n",
    "game = shapreg.games.PredictionGame(imputer, x)\n",
    "shap_values, all_results = shapreg.shapley.ShapleyRegression(\n",
    "    game, batch_size=32, paired_sampling=False, detect_convergence=True,\n",
    "    bar=True, return_all=True)"
   ]
  },
  {
   "cell_type": "code",
   "execution_count": 27,
   "id": "06d7b2af-97be-4176-88b4-69caed38c9e9",
   "metadata": {},
   "outputs": [
    {
     "data": {
      "text/plain": [
       "array([False,  True, False, ..., False, False, False])"
      ]
     },
     "execution_count": 27,
     "metadata": {},
     "output_type": "execute_result"
    }
   ],
   "source": [
    "Y_test"
   ]
  },
  {
   "cell_type": "code",
   "execution_count": 31,
   "id": "ff941ab2-b17a-4e3e-8a06-0a674a512e25",
   "metadata": {},
   "outputs": [
    {
     "name": "stdout",
     "output_type": "stream",
     "text": [
      "2340\n"
     ]
    },
    {
     "data": {
      "text/plain": [
       "array([[-0.63233563,  0.08586467,  1.13117129, -0.40049682, -0.6135913 ,\n",
       "         0.856581  ,  0.39170454,  0.70314024, -0.14493882, -0.21846582,\n",
       "         2.38987639,  0.29183004]])"
      ]
     },
     "execution_count": 31,
     "metadata": {},
     "output_type": "execute_result"
    }
   ],
   "source": [
    "print(ind)\n",
    "X_test[ind:ind+1]"
   ]
  },
  {
   "cell_type": "code",
   "execution_count": 30,
   "id": "641c9fd4-1e5d-47ea-96c9-4c88cf800989",
   "metadata": {},
   "outputs": [
    {
     "data": {
      "text/plain": [
       "array([[[ 0.09271204, -0.0943637 ],\n",
       "        [-0.00419231,  0.00579935],\n",
       "        [-0.20717722,  0.2094131 ],\n",
       "        [-0.0876115 ,  0.08756159],\n",
       "        [ 0.00339084, -0.00487816],\n",
       "        [-0.08255701,  0.08130698],\n",
       "        [-0.00370611,  0.00270407],\n",
       "        [-0.02125033,  0.01954361],\n",
       "        [ 0.03650542, -0.03509568],\n",
       "        [ 0.02408466, -0.02117747],\n",
       "        [-0.06498532,  0.06103707],\n",
       "        [-0.00534128,  0.00827725]]], dtype=float32)"
      ]
     },
     "execution_count": 30,
     "metadata": {},
     "output_type": "execute_result"
    }
   ],
   "source": [
    "fastshap.shap_values(x)"
   ]
  },
  {
   "cell_type": "code",
   "execution_count": 29,
   "id": "81f499a7-93fc-4061-a081-bf1f000bdab1",
   "metadata": {},
   "outputs": [
    {
     "data": {
      "text/plain": [
       "array([[ 0.09738295, -0.09738296],\n",
       "       [-0.00760297,  0.00760296],\n",
       "       [-0.19919967,  0.19919966],\n",
       "       [-0.09680066,  0.09680063],\n",
       "       [ 0.00477108, -0.00477109],\n",
       "       [-0.08600094,  0.08600093],\n",
       "       [-0.00458113,  0.00458113],\n",
       "       [-0.02237598,  0.02237597],\n",
       "       [ 0.04490557, -0.04490558],\n",
       "       [ 0.02530626, -0.02530625],\n",
       "       [-0.07126154,  0.07126154],\n",
       "       [-0.00467109,  0.00467109]])"
      ]
     },
     "execution_count": 29,
     "metadata": {},
     "output_type": "execute_result"
    }
   ],
   "source": [
    "shap_values.values"
   ]
  },
  {
   "cell_type": "code",
   "execution_count": 87,
   "id": "devoted-jenny",
   "metadata": {},
   "outputs": [
    {
     "data": {
      "image/png": "[encoded data removed]",
      "text/plain": [
       "<Figure size 900x1500 with 2 Axes>"
      ]
     },
     "metadata": {},
     "output_type": "display_data"
    }
   ],
   "source": [
    "# Create figure\n",
    "# plt.figure(figsize=(9, 5.5))\n",
    "\n",
    "ele_per_fig = 6\n",
    "nrow = (num_features // ele_per_fig) + int((num_features % ele_per_fig) > 0)\n",
    "ncol = 1\n",
    "fig, axs = plt.subplots(nrow, ncol, figsize=(9, 15))\n",
    "\n",
    "# Bar chart\n",
    "width = 0.75\n",
    "kernelshap_iters = 128\n",
    "\n",
    "for idx, ax in enumerate(axs):\n",
    "    sli = slice(idx*ele_per_fig, (idx+1)*ele_per_fig)\n",
    "    num_in_row = len(feature_names[sli])\n",
    "\n",
    "    ax.bar(np.arange(num_in_row) - width / 3, shap_values.values[sli, y],\n",
    "            width / 3, label='True SHAP values', color='tab:gray')\n",
    "    ax.bar(np.arange(num_in_row), fastshap_values[sli, y],\n",
    "            width / 3, label='FastSHAP', color='tab:green')\n",
    "    ax.bar(np.arange(num_in_row) + width / 3,\n",
    "            all_results['values'][list(all_results['iters']).index(kernelshap_iters)][sli, y],\n",
    "            width / 3, label='KernelSHAP @ {}'.format(kernelshap_iters), color='tab:red')\n",
    "    ax.tick_params(labelsize=14)\n",
    "    ax.set_xticks(np.arange(ele_per_fig)) \n",
    "    ax.set_xticklabels(feature_names[sli] + [\"\"] * (ele_per_fig - num_in_row),\n",
    "               rotation=35, rotation_mode='anchor', ha='right')\n",
    "\n",
    "# Annotations\n",
    "handles, labels = ax.get_legend_handles_labels()\n",
    "fig.legend(handles, labels, loc='upper right', bbox_to_anchor = (1, 1),)\n",
    "fig.supxlabel('SHAP Values', fontsize=16)\n",
    "fig.suptitle('Census Explanation Example', fontsize=18)\n",
    "plt.subplots_adjust(wspace=0.4, hspace=0.6)\n",
    "\n",
    "# plt.tight_layout()\n",
    "plt.show()"
   ]
  },
  {
   "cell_type": "code",
   "execution_count": null,
   "id": "98fc115b",
   "metadata": {},
   "outputs": [],
   "source": []
  },
  {
   "cell_type": "code",
   "execution_count": null,
   "id": "latest-earthquake",
   "metadata": {},
   "outputs": [],
   "source": []
  }
 ],
 "metadata": {
  "kernelspec": {
   "display_name": "Python 3 (ipykernel)",
   "language": "python",
   "name": "python3"
  },
  "language_info": {
   "codemirror_mode": {
    "name": "ipython",
    "version": 3
   },
   "file_extension": ".py",
   "mimetype": "text/x-python",
   "name": "python",
   "nbconvert_exporter": "python",
   "pygments_lexer": "ipython3",
   "version": "3.10.11"
  }
 },
 "nbformat": 4,
 "nbformat_minor": 5
}
